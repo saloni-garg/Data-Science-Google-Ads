{
  "nbformat": 4,
  "nbformat_minor": 0,
  "metadata": {
    "kernelspec": {
      "display_name": "Python 3",
      "language": "python",
      "name": "python3"
    },
    "language_info": {
      "nbconvert_exporter": "python",
      "pygments_lexer": "ipython3",
      "codemirror_mode": {
        "version": 3,
        "name": "ipython"
      },
      "version": "3.5.2",
      "name": "python",
      "mimetype": "text/x-python",
      "file_extension": ".py"
    },
    "colab": {
      "name": "notebook.ipynb",
      "provenance": [],
      "toc_visible": true
    }
  },
  "cells": [
    {
      "cell_type": "markdown",
      "metadata": {
        "run_control": {
          "frozen": true
        },
        "deletable": false,
        "editable": false,
        "tags": [
          "context"
        ],
        "dc": {
          "key": "4"
        },
        "id": "fzleOjNl0AhG",
        "colab_type": "text"
      },
      "source": [
        "## **1. The brief**\n",
        "<p>Imagine working for a digital marketing agency, and the agency is approached by a massive online retailer of furniture. They want to test our skills at creating large campaigns for all of their website. We are tasked with creating a prototype set of keywords for search campaigns for their sofas section. The client says that they want us to generate keywords for the following products: </p>\n",
        "<ul>\n",
        "<li>sofas</li>\n",
        "<li>convertible sofas</li>\n",
        "<li>love seats</li>\n",
        "<li>recliners</li>\n",
        "<li>sofa beds</li>\n",
        "</ul>\n",
        "<p><strong>The brief</strong>: The client is generally a low-cost retailer, offering many promotions and discounts. We will need to focus on such keywords. We will also need to move away from luxury keywords and topics, as we are targeting price-sensitive customers. Because we are going to be tight on budget, it would be good to focus on a tightly targeted set of keywords and make sure they are all set to exact and phrase match.</p>\n",
        "<p>Based on the brief above we will first need to generate a list of words, that together with the products given above would make for good keywords. Here are some examples:</p>\n",
        "<ul>\n",
        "<li>Products: sofas, recliners</li>\n",
        "<li>Words: buy, prices</li>\n",
        "</ul>\n",
        "<p>The resulting keywords: 'buy sofas', 'sofas buy', 'buy recliners', 'recliners buy',\n",
        "          'prices sofas', 'sofas prices', 'prices recliners', 'recliners prices'.</p>\n",
        "<p>As a final result, we want to have a DataFrame that looks like this: </p>\n",
        "<table>\n",
        "<thead>\n",
        "<tr>\n",
        "<th>Campaign</th>\n",
        "<th>Ad Group</th>\n",
        "<th>Keyword</th>\n",
        "<th>Criterion Type</th>\n",
        "</tr>\n",
        "</thead>\n",
        "<tbody>\n",
        "<tr>\n",
        "<td>Campaign1</td>\n",
        "<td>AdGroup_1</td>\n",
        "<td>keyword 1a</td>\n",
        "<td>Exact</td>\n",
        "</tr>\n",
        "<tr>\n",
        "<td>Campaign1</td>\n",
        "<td>AdGroup_1</td>\n",
        "<td>keyword 1a</td>\n",
        "<td>Phrase</td>\n",
        "</tr>\n",
        "<tr>\n",
        "<td>Campaign1</td>\n",
        "<td>AdGroup_1</td>\n",
        "<td>keyword 1b</td>\n",
        "<td>Exact</td>\n",
        "</tr>\n",
        "<tr>\n",
        "<td>Campaign1</td>\n",
        "<td>AdGroup_1</td>\n",
        "<td>keyword 1b</td>\n",
        "<td>Phrase</td>\n",
        "</tr>\n",
        "<tr>\n",
        "<td>Campaign1</td>\n",
        "<td>AdGroup_2</td>\n",
        "<td>keyword 2a</td>\n",
        "<td>Exact</td>\n",
        "</tr>\n",
        "<tr>\n",
        "<td>Campaign1</td>\n",
        "<td>AdGroup_2</td>\n",
        "<td>keyword 2a</td>\n",
        "<td>Phrase</td>\n",
        "</tr>\n",
        "</tbody>\n",
        "</table>\n",
        "<p>The first step is to come up with a list of words that users might use to express their desire in buying low-cost sofas.</p>"
      ]
    },
    {
      "cell_type": "code",
      "metadata": {
        "tags": [
          "sample_code"
        ],
        "trusted": true,
        "dc": {
          "key": "4"
        },
        "id": "YHq-uv1v0AhJ",
        "colab_type": "code",
        "colab": {
          "base_uri": "https://localhost:8080/",
          "height": 34
        },
        "outputId": "f8549eca-35d9-405a-eb56-04072e59e4bb"
      },
      "source": [
        "# List of words to pair with products\n",
        "words = ['buy', 'price', 'discount', 'promotion', 'promo', 'shop']\n",
        "\n",
        "# Print list of words\n",
        "print(words)"
      ],
      "execution_count": 16,
      "outputs": [
        {
          "output_type": "stream",
          "text": [
            "['buy', 'price', 'discount', 'promotion', 'promo', 'shop']\n"
          ],
          "name": "stdout"
        }
      ]
    },
    {
      "cell_type": "markdown",
      "metadata": {
        "run_control": {
          "frozen": true
        },
        "deletable": false,
        "editable": false,
        "tags": [
          "context"
        ],
        "dc": {
          "key": "11"
        },
        "id": "m0awdOwE0AhU",
        "colab_type": "text"
      },
      "source": [
        "## 2. Combine the words with the product names\n",
        "<p>We will translate campaign briefs into Python data structures.</p>\n",
        "\n",
        "<p>Now that we have brainstormed the words that work well with the brief that we received, it is now time to combine them with the product names to generate meaningful search keywords. We want to combine every word with every product once before, and once after, as seen in the example above.</p>\n",
        "\n",
        "<p>As a quick reminder, for the product 'recliners' and the words 'buy' and 'price' for example, we would want to generate the following combinations: </p>\n",
        "<p>buy recliners<br>\n",
        "recliners buy<br>\n",
        "price recliners<br>\n",
        "recliners price<br>\n",
        "...  </p>\n",
        "<p>and so on for all the words and products that we have.</p>"
      ]
    },
    {
      "cell_type": "code",
      "metadata": {
        "tags": [
          "sample_code"
        ],
        "trusted": true,
        "dc": {
          "key": "11"
        },
        "id": "4ulvHby60AhV",
        "colab_type": "code",
        "colab": {
          "base_uri": "https://localhost:8080/",
          "height": 1000
        },
        "outputId": "8e46ede0-5cbb-4a94-cbde-313e5e252d90"
      },
      "source": [
        "products = ['sofas', 'convertible sofas', 'love seats', 'recliners', 'sofa beds']\n",
        "\n",
        "# Create an empty list\n",
        "keywords_list = []\n",
        "\n",
        "# Loop through products\n",
        "for product in products:\n",
        "    # Loop through words\n",
        "    for word in words:\n",
        "        # Append combinations\n",
        "        keywords_list.append([product, product + ' ' + word])\n",
        "        keywords_list.append([product, word + ' ' + product])\n",
        "        \n",
        "# Inspect keyword list\n",
        "from pprint import pprint\n",
        "pprint(keywords_list)"
      ],
      "execution_count": 17,
      "outputs": [
        {
          "output_type": "stream",
          "text": [
            "[['sofas', 'sofas buy'],\n",
            " ['sofas', 'buy sofas'],\n",
            " ['sofas', 'sofas price'],\n",
            " ['sofas', 'price sofas'],\n",
            " ['sofas', 'sofas discount'],\n",
            " ['sofas', 'discount sofas'],\n",
            " ['sofas', 'sofas promotion'],\n",
            " ['sofas', 'promotion sofas'],\n",
            " ['sofas', 'sofas promo'],\n",
            " ['sofas', 'promo sofas'],\n",
            " ['sofas', 'sofas shop'],\n",
            " ['sofas', 'shop sofas'],\n",
            " ['convertible sofas', 'convertible sofas buy'],\n",
            " ['convertible sofas', 'buy convertible sofas'],\n",
            " ['convertible sofas', 'convertible sofas price'],\n",
            " ['convertible sofas', 'price convertible sofas'],\n",
            " ['convertible sofas', 'convertible sofas discount'],\n",
            " ['convertible sofas', 'discount convertible sofas'],\n",
            " ['convertible sofas', 'convertible sofas promotion'],\n",
            " ['convertible sofas', 'promotion convertible sofas'],\n",
            " ['convertible sofas', 'convertible sofas promo'],\n",
            " ['convertible sofas', 'promo convertible sofas'],\n",
            " ['convertible sofas', 'convertible sofas shop'],\n",
            " ['convertible sofas', 'shop convertible sofas'],\n",
            " ['love seats', 'love seats buy'],\n",
            " ['love seats', 'buy love seats'],\n",
            " ['love seats', 'love seats price'],\n",
            " ['love seats', 'price love seats'],\n",
            " ['love seats', 'love seats discount'],\n",
            " ['love seats', 'discount love seats'],\n",
            " ['love seats', 'love seats promotion'],\n",
            " ['love seats', 'promotion love seats'],\n",
            " ['love seats', 'love seats promo'],\n",
            " ['love seats', 'promo love seats'],\n",
            " ['love seats', 'love seats shop'],\n",
            " ['love seats', 'shop love seats'],\n",
            " ['recliners', 'recliners buy'],\n",
            " ['recliners', 'buy recliners'],\n",
            " ['recliners', 'recliners price'],\n",
            " ['recliners', 'price recliners'],\n",
            " ['recliners', 'recliners discount'],\n",
            " ['recliners', 'discount recliners'],\n",
            " ['recliners', 'recliners promotion'],\n",
            " ['recliners', 'promotion recliners'],\n",
            " ['recliners', 'recliners promo'],\n",
            " ['recliners', 'promo recliners'],\n",
            " ['recliners', 'recliners shop'],\n",
            " ['recliners', 'shop recliners'],\n",
            " ['sofa beds', 'sofa beds buy'],\n",
            " ['sofa beds', 'buy sofa beds'],\n",
            " ['sofa beds', 'sofa beds price'],\n",
            " ['sofa beds', 'price sofa beds'],\n",
            " ['sofa beds', 'sofa beds discount'],\n",
            " ['sofa beds', 'discount sofa beds'],\n",
            " ['sofa beds', 'sofa beds promotion'],\n",
            " ['sofa beds', 'promotion sofa beds'],\n",
            " ['sofa beds', 'sofa beds promo'],\n",
            " ['sofa beds', 'promo sofa beds'],\n",
            " ['sofa beds', 'sofa beds shop'],\n",
            " ['sofa beds', 'shop sofa beds']]\n"
          ],
          "name": "stdout"
        }
      ]
    },
    {
      "cell_type": "markdown",
      "metadata": {
        "run_control": {
          "frozen": true
        },
        "deletable": false,
        "editable": false,
        "tags": [
          "context"
        ],
        "dc": {
          "key": "18"
        },
        "id": "xxwIsiHc0Ahb",
        "colab_type": "text"
      },
      "source": [
        "## 3. Convert the list of lists into a DataFrame\n",
        "<p>Now we want to convert this list of lists into a DataFrame so we can easily manipulate it and manage the final output.</p>"
      ]
    },
    {
      "cell_type": "code",
      "metadata": {
        "tags": [
          "sample_code"
        ],
        "trusted": true,
        "dc": {
          "key": "18"
        },
        "id": "sr1qeo490Ahd",
        "colab_type": "code",
        "colab": {
          "base_uri": "https://localhost:8080/",
          "height": 204
        },
        "outputId": "db21bc77-d76d-49f9-8ed5-4fae4dbb2041"
      },
      "source": [
        "#Load library\n",
        "import pandas as pd\n",
        "\n",
        "# Create a DataFrame from list\n",
        "keywords_df = pd.DataFrame.from_records(keywords_list)\n",
        "\n",
        "# Print the keywords DataFrame to explore it\n",
        "keywords_df.head()"
      ],
      "execution_count": 18,
      "outputs": [
        {
          "output_type": "execute_result",
          "data": {
            "text/html": [
              "<div>\n",
              "<style scoped>\n",
              "    .dataframe tbody tr th:only-of-type {\n",
              "        vertical-align: middle;\n",
              "    }\n",
              "\n",
              "    .dataframe tbody tr th {\n",
              "        vertical-align: top;\n",
              "    }\n",
              "\n",
              "    .dataframe thead th {\n",
              "        text-align: right;\n",
              "    }\n",
              "</style>\n",
              "<table border=\"1\" class=\"dataframe\">\n",
              "  <thead>\n",
              "    <tr style=\"text-align: right;\">\n",
              "      <th></th>\n",
              "      <th>0</th>\n",
              "      <th>1</th>\n",
              "    </tr>\n",
              "  </thead>\n",
              "  <tbody>\n",
              "    <tr>\n",
              "      <th>0</th>\n",
              "      <td>sofas</td>\n",
              "      <td>sofas buy</td>\n",
              "    </tr>\n",
              "    <tr>\n",
              "      <th>1</th>\n",
              "      <td>sofas</td>\n",
              "      <td>buy sofas</td>\n",
              "    </tr>\n",
              "    <tr>\n",
              "      <th>2</th>\n",
              "      <td>sofas</td>\n",
              "      <td>sofas price</td>\n",
              "    </tr>\n",
              "    <tr>\n",
              "      <th>3</th>\n",
              "      <td>sofas</td>\n",
              "      <td>price sofas</td>\n",
              "    </tr>\n",
              "    <tr>\n",
              "      <th>4</th>\n",
              "      <td>sofas</td>\n",
              "      <td>sofas discount</td>\n",
              "    </tr>\n",
              "  </tbody>\n",
              "</table>\n",
              "</div>"
            ],
            "text/plain": [
              "       0               1\n",
              "0  sofas       sofas buy\n",
              "1  sofas       buy sofas\n",
              "2  sofas     sofas price\n",
              "3  sofas     price sofas\n",
              "4  sofas  sofas discount"
            ]
          },
          "metadata": {
            "tags": []
          },
          "execution_count": 18
        }
      ]
    },
    {
      "cell_type": "markdown",
      "metadata": {
        "run_control": {
          "frozen": true
        },
        "deletable": false,
        "editable": false,
        "tags": [
          "context"
        ],
        "dc": {
          "key": "25"
        },
        "id": "bDYkZQPg0Ahk",
        "colab_type": "text"
      },
      "source": [
        "## 4. Rename the columns of the DataFrame\n",
        "<p>Before we can upload this table of keywords, we will need to give the columns meaningful names. If we inspect the DataFrame we just created above, we can see that the columns are currently named <code>0</code> and <code>1</code>. <code>Ad Group</code> (example: \"sofas\") and <code>Keyword</code> (example: \"sofas buy\") are much more appropriate names.</p>"
      ]
    },
    {
      "cell_type": "code",
      "metadata": {
        "tags": [
          "sample_code"
        ],
        "trusted": true,
        "dc": {
          "key": "25"
        },
        "id": "uzNzwm9m0Ahl",
        "colab_type": "code",
        "colab": {}
      },
      "source": [
        "# Rename the columns of the DataFrame\n",
        "keywords_df = keywords_df.rename(columns={0: 'Ad Group', 1: 'Keyword'})"
      ],
      "execution_count": 0,
      "outputs": []
    },
    {
      "cell_type": "markdown",
      "metadata": {
        "run_control": {
          "frozen": true
        },
        "deletable": false,
        "editable": false,
        "tags": [
          "context"
        ],
        "dc": {
          "key": "32"
        },
        "id": "cv7IHtks0Ahr",
        "colab_type": "text"
      },
      "source": [
        "## 5. Add a campaign column\n",
        "<p>Now we need to add some additional information to our DataFrame. \n",
        "We need a new column called <code>Campaign</code> for the campaign name. We want campaign names to be descriptive of our group of keywords and products, so let's call this campaign 'SEM_Sofas'.</p>"
      ]
    },
    {
      "cell_type": "code",
      "metadata": {
        "tags": [
          "sample_code"
        ],
        "trusted": true,
        "dc": {
          "key": "32"
        },
        "id": "Czjo3Jz_0Ahs",
        "colab_type": "code",
        "colab": {}
      },
      "source": [
        "# Add a campaign column\n",
        "keywords_df['Campaign'] = 'SEM_Sofas'"
      ],
      "execution_count": 0,
      "outputs": []
    },
    {
      "cell_type": "markdown",
      "metadata": {
        "run_control": {
          "frozen": true
        },
        "deletable": false,
        "editable": false,
        "tags": [
          "context"
        ],
        "dc": {
          "key": "39"
        },
        "id": "gTiCnXcO0Ah0",
        "colab_type": "text"
      },
      "source": [
        "## 6. Create the match type column\n",
        "<p>There are different keyword match types. One is exact match, which is for matching the exact term or are close variations of that exact term. Another match type is broad match, which means ads may show on searches that include misspellings, synonyms, related searches, and other relevant variations.</p>\n",
        "<p>Straight from Google's AdWords <a href=\"https://support.google.com/google-ads/answer/2497836?hl=en\">documentation</a>:</p>\n",
        "<blockquote>\n",
        "  <p>In general, the broader the match type, the more traffic potential that keyword will have, since your ads may be triggered more often. Conversely, a narrower match type means that your ads may show less often—but when they do, they’re likely to be more related to someone’s search.</p>\n",
        "</blockquote>\n",
        "<p>Since the client is tight on budget, we want to make sure all the keywords are in exact match at the beginning.</p>"
      ]
    },
    {
      "cell_type": "code",
      "metadata": {
        "tags": [
          "sample_code"
        ],
        "trusted": true,
        "dc": {
          "key": "39"
        },
        "id": "yqdo_nAr0Ah1",
        "colab_type": "code",
        "colab": {}
      },
      "source": [
        "# Add a criterion type column\n",
        "keywords_df['Criterion Type'] = 'Exact'"
      ],
      "execution_count": 0,
      "outputs": []
    },
    {
      "cell_type": "markdown",
      "metadata": {
        "run_control": {
          "frozen": true
        },
        "deletable": false,
        "editable": false,
        "tags": [
          "context"
        ],
        "dc": {
          "key": "46"
        },
        "id": "cy5JbtMN0Ah8",
        "colab_type": "text"
      },
      "source": [
        "## 7. Duplicate all the keywords into 'phrase' match\n",
        "<p>The great thing about exact match is that it is very specific, and we can control the process very well. The tradeoff, however, is that:  </p>\n",
        "<ol>\n",
        "<li>The search volume for exact match is lower than other match types</li>\n",
        "<li>We can't possibly think of all the ways in which people search, and so, we are probably missing out on some high-quality keywords.</li>\n",
        "</ol>\n",
        "<p>So it's good to use another match called <em>phrase match</em> as a discovery mechanism to allow our ads to be triggered by keywords that include our exact match keywords, together with anything before (or after) them.</p>\n",
        "<p>Later on, when we launch the campaign, we can explore with modified broad match, broad match, and negative match types, for better visibility and control of our campaigns.</p>"
      ]
    },
    {
      "cell_type": "code",
      "metadata": {
        "tags": [
          "sample_code"
        ],
        "trusted": true,
        "dc": {
          "key": "46"
        },
        "id": "vb7Ul4470Ah9",
        "colab_type": "code",
        "colab": {
          "base_uri": "https://localhost:8080/",
          "height": 255
        },
        "outputId": "f38dec40-d079-4250-f401-663f5d0662ac"
      },
      "source": [
        "# Make a copy of the keywords DataFrame\n",
        "keywords_phrase = keywords_df.copy()\n",
        "\n",
        "# Change criterion type match to phrase\n",
        "keywords_phrase['Criterion Type']='Phrase'\n",
        "\n",
        "# Append the DataFrames\n",
        "keywords_df_final = keywords_df.append(keywords_phrase)\n",
        "pprint(keywords_df_final)"
      ],
      "execution_count": 25,
      "outputs": [
        {
          "output_type": "stream",
          "text": [
            "     Ad Group              Keyword   Campaign Criterion Type\n",
            "0       sofas            sofas buy  SEM_Sofas          Exact\n",
            "1       sofas            buy sofas  SEM_Sofas          Exact\n",
            "2       sofas          sofas price  SEM_Sofas          Exact\n",
            "3       sofas          price sofas  SEM_Sofas          Exact\n",
            "4       sofas       sofas discount  SEM_Sofas          Exact\n",
            "..        ...                  ...        ...            ...\n",
            "55  sofa beds  promotion sofa beds  SEM_Sofas         Phrase\n",
            "56  sofa beds      sofa beds promo  SEM_Sofas         Phrase\n",
            "57  sofa beds      promo sofa beds  SEM_Sofas         Phrase\n",
            "58  sofa beds       sofa beds shop  SEM_Sofas         Phrase\n",
            "59  sofa beds       shop sofa beds  SEM_Sofas         Phrase\n",
            "\n",
            "[120 rows x 4 columns]\n"
          ],
          "name": "stdout"
        }
      ]
    },
    {
      "cell_type": "markdown",
      "metadata": {
        "run_control": {
          "frozen": true
        },
        "deletable": false,
        "editable": false,
        "tags": [
          "context"
        ],
        "dc": {
          "key": "53"
        },
        "id": "4CCC-3aJ0AiE",
        "colab_type": "text"
      },
      "source": [
        "## 8. Save and summarize!\n",
        "<p>To upload our campaign, we need to save it as a CSV file. Then we will be able to import it to AdWords editor or BingAds editor. There is also the option of pasting the data into the editor if we want, but having easy access to the saved data is great so let's save to a CSV file!</p>\n",
        "<p>Looking at a summary of our campaign structure is good now that we've wrapped up our keyword work. We can do that by grouping by ad group and criterion type and counting by keyword. This summary shows us that we assigned specific keywords to specific ad groups, which are each part of a campaign. In essence, we are telling Google (or Bing, etc.) that we want any of the words in each ad group to trigger one of the ads in the same ad group. Separately, we will have to create another table for ads, which is a task for another day and would look something like this:</p>\n",
        "<table>\n",
        "<thead>\n",
        "<tr>\n",
        "<th>Campaign</th>\n",
        "<th>Ad Group</th>\n",
        "<th>Headline 1</th>\n",
        "<th>Headline 2</th>\n",
        "<th>Description</th>\n",
        "<th>Final URL</th>\n",
        "</tr>\n",
        "</thead>\n",
        "<tbody>\n",
        "<tr>\n",
        "<td>SEM_Sofas</td>\n",
        "<td>Sofas</td>\n",
        "<td>Looking for Quality Sofas?</td>\n",
        "<td>Explore Our Massive Collection</td>\n",
        "<td>30-day Returns With Free Delivery Within the US. Start Shopping Now</td>\n",
        "<td>DataCampSofas.com/sofas</td>\n",
        "</tr>\n",
        "<tr>\n",
        "<td>SEM_Sofas</td>\n",
        "<td>Sofas</td>\n",
        "<td>Looking for Affordable Sofas?</td>\n",
        "<td>Check Out Our Weekly Offers</td>\n",
        "<td>30-day Returns With Free Delivery Within the US. Start Shopping Now</td>\n",
        "<td>DataCampSofas.com/sofas</td>\n",
        "</tr>\n",
        "<tr>\n",
        "<td>SEM_Sofas</td>\n",
        "<td>Recliners</td>\n",
        "<td>Looking for Quality Recliners?</td>\n",
        "<td>Explore Our Massive Collection</td>\n",
        "<td>30-day Returns With Free Delivery Within the US. Start Shopping Now</td>\n",
        "<td>DataCampSofas.com/recliners</td>\n",
        "</tr>\n",
        "<tr>\n",
        "<td>SEM_Sofas</td>\n",
        "<td>Recliners</td>\n",
        "<td>Need Affordable Recliners?</td>\n",
        "<td>Check Out Our Weekly Offers</td>\n",
        "<td>30-day Returns With Free Delivery Within the US. Start Shopping Now</td>\n",
        "<td>DataCampSofas.com/recliners</td>\n",
        "</tr>\n",
        "</tbody>\n",
        "</table>\n",
        "<p>Together, these tables get us the sample <strong>keywords -> ads -> landing pages</strong> mapping shown in the diagram below.</p>\n",
        "<p><img src=\"https://assets.datacamp.com/production/project_400/img/kwds_ads_lpages.png\" alt=\"Keywords-Ads-Landing pages flow\"></p>"
      ]
    },
    {
      "cell_type": "code",
      "metadata": {
        "tags": [
          "sample_code"
        ],
        "trusted": true,
        "dc": {
          "key": "53"
        },
        "id": "nt5HP26C0AiF",
        "colab_type": "code",
        "colab": {
          "base_uri": "https://localhost:8080/",
          "height": 221
        },
        "outputId": "15d63e5e-ee89-494e-e6e5-4579e2f64390"
      },
      "source": [
        "# Save the final keywords to a CSV file\n",
        "keywords_df_final.to_csv(\"final_keywords.csv\")\n",
        "# View a summary of our campaign work\n",
        "summary = keywords_df_final.groupby(['Ad Group', 'Criterion Type'])['Keyword'].count()\n",
        "print(summary)"
      ],
      "execution_count": 27,
      "outputs": [
        {
          "output_type": "stream",
          "text": [
            "Ad Group           Criterion Type\n",
            "convertible sofas  Exact             12\n",
            "                   Phrase            12\n",
            "love seats         Exact             12\n",
            "                   Phrase            12\n",
            "recliners          Exact             12\n",
            "                   Phrase            12\n",
            "sofa beds          Exact             12\n",
            "                   Phrase            12\n",
            "sofas              Exact             12\n",
            "                   Phrase            12\n",
            "Name: Keyword, dtype: int64\n"
          ],
          "name": "stdout"
        }
      ]
    }
  ]
}